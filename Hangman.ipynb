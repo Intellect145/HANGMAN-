{
 "cells": [
  {
   "cell_type": "code",
   "execution_count": 14,
   "metadata": {},
   "outputs": [
    {
     "name": "stdout",
     "output_type": "stream",
     "text": [
      "No of lives:6\n"
     ]
    },
    {
     "ename": "ValueError",
     "evalue": "invalid literal for int() with base 10: 'abhi'",
     "output_type": "error",
     "traceback": [
      "\u001b[1;31m---------------------------------------------------------------------------\u001b[0m",
      "\u001b[1;31mValueError\u001b[0m                                Traceback (most recent call last)",
      "Cell \u001b[1;32mIn[14], line 6\u001b[0m\n\u001b[0;32m      3\u001b[0m \u001b[38;5;28mprint\u001b[39m(\u001b[38;5;124m\"\u001b[39m\u001b[38;5;124mNo of lives:6\u001b[39m\u001b[38;5;124m\"\u001b[39m)\n\u001b[0;32m      5\u001b[0m end_of_game \u001b[38;5;241m=\u001b[39m \u001b[38;5;28;01mFalse\u001b[39;00m\n\u001b[1;32m----> 6\u001b[0m n \u001b[38;5;241m=\u001b[39m \u001b[38;5;28;43mint\u001b[39;49m\u001b[43m(\u001b[49m\u001b[38;5;28;43minput\u001b[39;49m\u001b[43m(\u001b[49m\u001b[38;5;124;43m\"\u001b[39;49m\u001b[38;5;124;43mEnter the number of elements: \u001b[39;49m\u001b[38;5;124;43m\"\u001b[39;49m\u001b[43m)\u001b[49m\u001b[43m)\u001b[49m\n\u001b[0;32m      7\u001b[0m my_list \u001b[38;5;241m=\u001b[39m []\n\u001b[0;32m      8\u001b[0m \u001b[38;5;28;01mfor\u001b[39;00m i \u001b[38;5;129;01min\u001b[39;00m \u001b[38;5;28mrange\u001b[39m(n):\n",
      "\u001b[1;31mValueError\u001b[0m: invalid literal for int() with base 10: 'abhi'"
     ]
    }
   ],
   "source": [
    "import random\n",
    "\n",
    "print(\"No of lives:6\")\n",
    "\n",
    "end_of_game = False\n",
    "n = int(input(\"Enter the number of elements: \"))\n",
    "my_list = []\n",
    "for i in range(n):\n",
    "    element = input(\"Enter element {}: \".format(i+1))\n",
    "    my_list.append(element)\n",
    "\n",
    "word_list=my_list\n",
    "\n",
    "choosen_word=random.choice(word_list)\n",
    "\n",
    "lives=5\n",
    "\n",
    "display=[]\n",
    "word_length=len(choosen_word)\n",
    "for _ in choosen_word:\n",
    "    display+=\"_\"\n",
    "    \n",
    "print(display)\n",
    "\n",
    "end_of_game=False\n",
    "\n",
    "while not end_of_game:\n",
    "    guess=input(\"Enter the letter \").lower()\n",
    "\n",
    "    for position in range(word_length):\n",
    "        letter=choosen_word[position]\n",
    "        if letter==guess:\n",
    "            display[position]=letter\n",
    "    \n",
    "    if guess not in choosen_word:\n",
    "        lives-=1\n",
    "        if lives==0:\n",
    "            end_of_game=True\n",
    "            print(\"you lost\")\n",
    "            \n",
    "    print(display)\n",
    "        \n",
    "    if \"_\" not in display:\n",
    "        end_of_game=True\n",
    "        print(\"You Win\")\n",
    "        \n",
    "        \n",
    "        \n"
   ]
  },
  {
   "cell_type": "code",
   "execution_count": null,
   "metadata": {},
   "outputs": [],
   "source": []
  }
 ],
 "metadata": {
  "kernelspec": {
   "display_name": "Python 3",
   "language": "python",
   "name": "python3"
  },
  "language_info": {
   "codemirror_mode": {
    "name": "ipython",
    "version": 3
   },
   "file_extension": ".py",
   "mimetype": "text/x-python",
   "name": "python",
   "nbconvert_exporter": "python",
   "pygments_lexer": "ipython3",
   "version": "3.12.2"
  }
 },
 "nbformat": 4,
 "nbformat_minor": 2
}
